{
 "cells": [
  {
   "cell_type": "code",
   "execution_count": 97,
   "id": "3fc63ca8-de6d-4777-a623-6cfdecc12707",
   "metadata": {
    "scrolled": true
   },
   "outputs": [
    {
     "name": "stdout",
     "output_type": "stream",
     "text": [
      "109020013201563\n"
     ]
    }
   ],
   "source": [
    "k = [int(x) for x in \"2,4,1,5,7,5,0,3,4,1,1,6,5,5,3,0\".split(\",\")]\n",
    "k.reverse()\n",
    "\n",
    "pos_a = [0]\n",
    "for m in k:\n",
    "    next_pos_a = []\n",
    "    for a in pos_a:\n",
    "        a_list = [a + i for i in range(0, 8)]\n",
    "        b_pos = [[(((( a1 % 8 ) ^ 5) ^ (a1 // (1<<((a1%8)^5)))) ^ 6 ) % 8, a1] for a1 in a_list]\n",
    "        res = list(filter(lambda x: x[0] == m,b_pos))\n",
    "        if len(res) > 0:\n",
    "            next_pos_a.extend([re[1] * 8 for re in res])\n",
    "    pos_a = next_pos_a\n",
    "print([ x//8 for x in sorted(next_pos_a)][0])"
   ]
  }
 ],
 "metadata": {
  "kernelspec": {
   "display_name": "Python 3 (ipykernel)",
   "language": "python",
   "name": "python3"
  },
  "language_info": {
   "codemirror_mode": {
    "name": "ipython",
    "version": 3
   },
   "file_extension": ".py",
   "mimetype": "text/x-python",
   "name": "python",
   "nbconvert_exporter": "python",
   "pygments_lexer": "ipython3",
   "version": "3.13.1"
  }
 },
 "nbformat": 4,
 "nbformat_minor": 5
}
